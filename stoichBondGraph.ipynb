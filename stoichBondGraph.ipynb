{
 "cells": [
  {
   "cell_type": "markdown",
   "metadata": {},
   "source": [
    "***Note: this is the stoichBondGraph.ipynb notebook. The\n",
    "PDF version \"The stoichBondGraph module: From Stoichiometry to Bond Graph\"\n",
    "is available [here](stoichBondGraph.pdf).***"
   ]
  },
  {
   "cell_type": "markdown",
   "metadata": {},
   "source": [
    "# Introduction\n",
    "The bond graph approach \n",
    "<cite data-cite=\"OstPerKat71,OstPerKat73,GawCra14,GawCurCra15,GawCra16,GawCra17\"></cite> \n",
    "to modelling biomolecular systems of interest to systems biologists developed independently from the stoichiometric approach \n",
    "<cite data-cite=\"Pal06,Pal11,Pal15\"></cite>.\n",
    "\n",
    "However, the conceptual point of intersection of the two approaches is the fact that the stoichiometric matrix is the modulus of the conceptual multiport transformer linking reactions to species.\n",
    "This means that the two approaches are complementary and each can build on the strengths of the other.\n",
    "\n",
    "This tutorial illustrates how a stoichiometric system description can be used to automatically create the corresponding bond graph. However, more compex systems such as the ecoli core model \n",
    "<cite data-cite=\"OrtFlePal10\"></cite>\n",
    "can also be translated in the same way.\n",
    "\n"
   ]
  },
  {
   "cell_type": "markdown",
   "metadata": {},
   "source": [
    "## Import some python code\n",
    "The bond graph analysis uses a number of Python modules:"
   ]
  },
  {
   "cell_type": "code",
   "execution_count": 1,
   "metadata": {},
   "outputs": [],
   "source": [
    "## Some useful imports\n",
    "import BondGraphTools as bgt\n",
    "import numpy as np\n",
    "\n",
    "## Stoichiometry to BG\n",
    "import stoichBondGraph as stbg"
   ]
  },
  {
   "cell_type": "markdown",
   "metadata": {},
   "source": [
    "# Create a stoichiometric representation\n",
    "\n",
    "In this context a stoichimetric representation is a python dictionary with the following fields\n",
    "\n",
    "- name (string): the name of the bg to be created\n",
    "- N (numpy integer array): the stoichiometric matrix\n",
    "- species (list of strings): the names of the species\n",
    "- reaction (list of strings): the names of the reaction\n",
    "\n",
    "Optionally, the forward and reverse stoichometric matrices Nf and Nr can be included instead of N\n",
    "\n",
    "Note that there is one species per row, and one reaction per column, of N\n",
    "\n",
    "A file name.py is written containing the function model() which returns the bg in bgt form\n"
   ]
  },
  {
   "cell_type": "markdown",
   "metadata": {},
   "source": [
    "## Example\n",
    "This example corresponds to ABCD_abg.svg in Tutorial svgBondGraph."
   ]
  },
  {
   "cell_type": "code",
   "execution_count": 2,
   "metadata": {},
   "outputs": [],
   "source": [
    "## Stoichiometric matrix N\n",
    "N = np.array(\n",
    "    [\n",
    "     [-1, 0, 0, 0],\n",
    "     [ 0,-1, 0, 0],\n",
    "     [ 0, 0, 1, 0],\n",
    "     [ 0, 0, 0, 1],\n",
    "     [-1, 0, 0, 1],\n",
    "     [ 1,-1, 0, 0],\n",
    "     [ 0, 1,-1, 0],\n",
    "     [ 0, 0, 1,-1]\n",
    "    ]\n",
    ")\n",
    "\n",
    "## Species and reactions\n",
    "species = ['A', 'B', 'C', 'D', 'E1', 'E2', 'E3', 'E4']\n",
    "reaction = ['r1', 'r2', 'r3', 'r4']\n",
    "\n",
    "## Pack into a dict with name 'ABCDE_abg'\n",
    "s = {\n",
    "    'name':'BG_abg',\n",
    "    'N':N,\n",
    "    'species':species,\n",
    "    'reaction':reaction\n",
    "    }\n",
    "\n",
    "## Convert to a bondgraph\n",
    "stbg.model(s)\n"
   ]
  },
  {
   "cell_type": "code",
   "execution_count": 3,
   "metadata": {},
   "outputs": [
    {
     "name": "stdout",
     "output_type": "stream",
     "text": [
      "Help on module BG_abg:\n",
      "\n",
      "NAME\n",
      "    BG_abg\n",
      "\n",
      "FUNCTIONS\n",
      "    model()\n",
      "        Acausal bond graph BG_abg.py\n",
      "        Created by stoichBondGraph at Wed May 22 09:59:40 2024\n",
      "        \n",
      "        Usage:\n",
      "        import BG_abg; model = BG_abg.model()\n",
      "\n",
      "FILE\n",
      "    /home/peterg/WORK/Research/SystemsBiology/Notes/2024/Tutorial/stoichBondGraph/BG_abg.py\n",
      "\n",
      "\n"
     ]
    }
   ],
   "source": [
    "import BG_abg; BG = BG_abg.model(); help(BG_abg)"
   ]
  },
  {
   "cell_type": "markdown",
   "metadata": {},
   "source": [
    "Various properties of the BGT model can now be extracted."
   ]
  },
  {
   "cell_type": "code",
   "execution_count": 4,
   "metadata": {},
   "outputs": [
    {
     "data": {
      "text/plain": [
       "{'x_0': (C: A, 'q_0'),\n",
       " 'x_1': (C: B, 'q_0'),\n",
       " 'x_2': (C: C, 'q_0'),\n",
       " 'x_3': (C: D, 'q_0'),\n",
       " 'x_4': (C: E1, 'q_0'),\n",
       " 'x_5': (C: E2, 'q_0'),\n",
       " 'x_6': (C: E3, 'q_0'),\n",
       " 'x_7': (C: E4, 'q_0')}"
      ]
     },
     "execution_count": 4,
     "metadata": {},
     "output_type": "execute_result"
    }
   ],
   "source": [
    "BG.state_vars"
   ]
  },
  {
   "cell_type": "code",
   "execution_count": 5,
   "metadata": {},
   "outputs": [
    {
     "data": {
      "text/plain": [
       "[K_A*K_E1*kappa_r1*x_0*x_4 - K_E2*kappa_r1*x_5 + dx_0,\n",
       " K_B*K_E2*kappa_r2*x_1*x_5 - K_E3*kappa_r2*x_6 + dx_1,\n",
       " K_C*K_E4*kappa_r3*x_2*x_7 - K_E3*kappa_r3*x_6 + dx_2,\n",
       " K_D*K_E1*kappa_r4*x_3*x_4 - K_E4*kappa_r4*x_7 + dx_3,\n",
       " K_A*K_E1*kappa_r1*x_0*x_4 + K_D*K_E1*kappa_r4*x_3*x_4 - K_E2*kappa_r1*x_5 - K_E4*kappa_r4*x_7 + dx_4,\n",
       " -K_A*K_E1*kappa_r1*x_0*x_4 + K_B*K_E2*kappa_r2*x_1*x_5 + K_E2*kappa_r1*x_5 - K_E3*kappa_r2*x_6 + dx_5,\n",
       " -K_B*K_E2*kappa_r2*x_1*x_5 - K_C*K_E4*kappa_r3*x_2*x_7 + K_E3*kappa_r2*x_6 + K_E3*kappa_r3*x_6 + dx_6,\n",
       " K_C*K_E4*kappa_r3*x_2*x_7 - K_D*K_E1*kappa_r4*x_3*x_4 - K_E3*kappa_r3*x_6 + K_E4*kappa_r4*x_7 + dx_7]"
      ]
     },
     "execution_count": 5,
     "metadata": {},
     "output_type": "execute_result"
    }
   ],
   "source": [
    "BG.constitutive_relations"
   ]
  },
  {
   "cell_type": "code",
   "execution_count": 6,
   "metadata": {
    "scrolled": true
   },
   "outputs": [
    {
     "data": {
      "text/plain": [
       "{}"
      ]
     },
     "execution_count": 6,
     "metadata": {},
     "output_type": "execute_result"
    }
   ],
   "source": [
    "BG.control_vars"
   ]
  },
  {
   "cell_type": "markdown",
   "metadata": {},
   "source": [
    "## Draw the BG"
   ]
  },
  {
   "cell_type": "code",
   "execution_count": 7,
   "metadata": {},
   "outputs": [
    {
     "data": {
      "image/png": "[encoded data removed]",
      "text/plain": [
       "<Figure size 960x720 with 1 Axes>"
      ]
     },
     "metadata": {},
     "output_type": "display_data"
    }
   ],
   "source": [
    "## Draw the BG\n",
    "bgt.draw(BG_abg.model())"
   ]
  },
  {
   "cell_type": "code",
   "execution_count": null,
   "metadata": {},
   "outputs": [],
   "source": []
  }
 ],
 "metadata": {
  "kernelspec": {
   "display_name": "Python 3 (ipykernel)",
   "language": "python",
   "name": "python3"
  },
  "language_info": {
   "codemirror_mode": {
    "name": "ipython",
    "version": 3
   },
   "file_extension": ".py",
   "mimetype": "text/x-python",
   "name": "python",
   "nbconvert_exporter": "python",
   "pygments_lexer": "ipython3",
   "version": "3.8.0"
  }
 },
 "nbformat": 4,
 "nbformat_minor": 4
}
